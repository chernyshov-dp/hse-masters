{
 "cells": [
  {
   "cell_type": "code",
   "execution_count": 1,
   "id": "7016d485",
   "metadata": {},
   "outputs": [],
   "source": [
    "import numpy as np\n",
    "import pandas as pd\n",
    "\n",
    "import seaborn as sns\n",
    "import matplotlib.pyplot as plt\n",
    "\n",
    "from sklearn.metrics import r2_score\n",
    "from sklearn.linear_model import LinearRegression\n",
    "from sklearn.model_selection import train_test_split, KFold\n",
    "from sklearn.preprocessing import PolynomialFeatures, KBinsDiscretizer\n",
    "\n",
    "\n",
    "import warnings\n",
    "warnings.filterwarnings('ignore')"
   ]
  },
  {
   "cell_type": "code",
   "execution_count": 2,
   "id": "e780c0de-b20e-4aa9-92ce-2b57f863759f",
   "metadata": {},
   "outputs": [],
   "source": [
    "TEST_SIZE = 0.2\n",
    "RANDOM_STATE = 42"
   ]
  },
  {
   "cell_type": "markdown",
   "id": "76c01d5e",
   "metadata": {},
   "source": [
    "# EDA"
   ]
  },
  {
   "cell_type": "code",
   "execution_count": 3,
   "id": "a76d1888",
   "metadata": {},
   "outputs": [],
   "source": [
    "df = pd.read_csv(\"lab01.csv\").drop(\"Unnamed: 0\", axis=1)"
   ]
  },
  {
   "cell_type": "code",
   "execution_count": 4,
   "id": "cb38c663",
   "metadata": {},
   "outputs": [
    {
     "name": "stdout",
     "output_type": "stream",
     "text": [
      "<class 'pandas.core.frame.DataFrame'>\n",
      "RangeIndex: 1000 entries, 0 to 999\n",
      "Data columns (total 6 columns):\n",
      " #   Column  Non-Null Count  Dtype  \n",
      "---  ------  --------------  -----  \n",
      " 0   x1      1000 non-null   object \n",
      " 1   x2      1000 non-null   float64\n",
      " 2   x3      1000 non-null   float64\n",
      " 3   x4      1000 non-null   float64\n",
      " 4   x5      1000 non-null   float64\n",
      " 5   target  1000 non-null   float64\n",
      "dtypes: float64(5), object(1)\n",
      "memory usage: 47.0+ KB\n"
     ]
    }
   ],
   "source": [
    "df.info()"
   ]
  },
  {
   "cell_type": "code",
   "execution_count": 5,
   "id": "3ac6c7ea",
   "metadata": {},
   "outputs": [
    {
     "data": {
      "text/html": [
       "<div>\n",
       "<style scoped>\n",
       "    .dataframe tbody tr th:only-of-type {\n",
       "        vertical-align: middle;\n",
       "    }\n",
       "\n",
       "    .dataframe tbody tr th {\n",
       "        vertical-align: top;\n",
       "    }\n",
       "\n",
       "    .dataframe thead th {\n",
       "        text-align: right;\n",
       "    }\n",
       "</style>\n",
       "<table border=\"1\" class=\"dataframe\">\n",
       "  <thead>\n",
       "    <tr style=\"text-align: right;\">\n",
       "      <th></th>\n",
       "      <th>x1</th>\n",
       "      <th>x2</th>\n",
       "      <th>x3</th>\n",
       "      <th>x4</th>\n",
       "      <th>x5</th>\n",
       "      <th>target</th>\n",
       "    </tr>\n",
       "  </thead>\n",
       "  <tbody>\n",
       "    <tr>\n",
       "      <th>0</th>\n",
       "      <td>осень</td>\n",
       "      <td>6.0</td>\n",
       "      <td>10.0</td>\n",
       "      <td>684.853714</td>\n",
       "      <td>489.727534</td>\n",
       "      <td>127000.0</td>\n",
       "    </tr>\n",
       "    <tr>\n",
       "      <th>1</th>\n",
       "      <td>лето</td>\n",
       "      <td>6.0</td>\n",
       "      <td>5.0</td>\n",
       "      <td>787.439842</td>\n",
       "      <td>129.226659</td>\n",
       "      <td>54200.0</td>\n",
       "    </tr>\n",
       "    <tr>\n",
       "      <th>2</th>\n",
       "      <td>лето</td>\n",
       "      <td>7.0</td>\n",
       "      <td>8.0</td>\n",
       "      <td>934.334854</td>\n",
       "      <td>996.189811</td>\n",
       "      <td>107600.0</td>\n",
       "    </tr>\n",
       "    <tr>\n",
       "      <th>3</th>\n",
       "      <td>зима</td>\n",
       "      <td>7.0</td>\n",
       "      <td>7.0</td>\n",
       "      <td>507.949612</td>\n",
       "      <td>553.560324</td>\n",
       "      <td>91800.0</td>\n",
       "    </tr>\n",
       "    <tr>\n",
       "      <th>4</th>\n",
       "      <td>зима</td>\n",
       "      <td>10.0</td>\n",
       "      <td>10.0</td>\n",
       "      <td>154.831480</td>\n",
       "      <td>88.940079</td>\n",
       "      <td>171500.0</td>\n",
       "    </tr>\n",
       "    <tr>\n",
       "      <th>...</th>\n",
       "      <td>...</td>\n",
       "      <td>...</td>\n",
       "      <td>...</td>\n",
       "      <td>...</td>\n",
       "      <td>...</td>\n",
       "      <td>...</td>\n",
       "    </tr>\n",
       "    <tr>\n",
       "      <th>995</th>\n",
       "      <td>осень</td>\n",
       "      <td>8.0</td>\n",
       "      <td>5.0</td>\n",
       "      <td>827.094070</td>\n",
       "      <td>4.385557</td>\n",
       "      <td>61800.0</td>\n",
       "    </tr>\n",
       "    <tr>\n",
       "      <th>996</th>\n",
       "      <td>осень</td>\n",
       "      <td>7.0</td>\n",
       "      <td>6.0</td>\n",
       "      <td>842.487798</td>\n",
       "      <td>164.747387</td>\n",
       "      <td>53800.0</td>\n",
       "    </tr>\n",
       "    <tr>\n",
       "      <th>997</th>\n",
       "      <td>осень</td>\n",
       "      <td>10.0</td>\n",
       "      <td>7.0</td>\n",
       "      <td>497.651151</td>\n",
       "      <td>639.352422</td>\n",
       "      <td>122800.0</td>\n",
       "    </tr>\n",
       "    <tr>\n",
       "      <th>998</th>\n",
       "      <td>осень</td>\n",
       "      <td>8.0</td>\n",
       "      <td>6.0</td>\n",
       "      <td>282.684179</td>\n",
       "      <td>194.777096</td>\n",
       "      <td>84400.0</td>\n",
       "    </tr>\n",
       "    <tr>\n",
       "      <th>999</th>\n",
       "      <td>зима</td>\n",
       "      <td>10.0</td>\n",
       "      <td>8.0</td>\n",
       "      <td>837.751235</td>\n",
       "      <td>453.171884</td>\n",
       "      <td>109800.0</td>\n",
       "    </tr>\n",
       "  </tbody>\n",
       "</table>\n",
       "<p>1000 rows × 6 columns</p>\n",
       "</div>"
      ],
      "text/plain": [
       "        x1    x2    x3          x4          x5    target\n",
       "0    осень   6.0  10.0  684.853714  489.727534  127000.0\n",
       "1     лето   6.0   5.0  787.439842  129.226659   54200.0\n",
       "2     лето   7.0   8.0  934.334854  996.189811  107600.0\n",
       "3     зима   7.0   7.0  507.949612  553.560324   91800.0\n",
       "4     зима  10.0  10.0  154.831480   88.940079  171500.0\n",
       "..     ...   ...   ...         ...         ...       ...\n",
       "995  осень   8.0   5.0  827.094070    4.385557   61800.0\n",
       "996  осень   7.0   6.0  842.487798  164.747387   53800.0\n",
       "997  осень  10.0   7.0  497.651151  639.352422  122800.0\n",
       "998  осень   8.0   6.0  282.684179  194.777096   84400.0\n",
       "999   зима  10.0   8.0  837.751235  453.171884  109800.0\n",
       "\n",
       "[1000 rows x 6 columns]"
      ]
     },
     "execution_count": 5,
     "metadata": {},
     "output_type": "execute_result"
    }
   ],
   "source": [
    "df"
   ]
  },
  {
   "cell_type": "code",
   "execution_count": 6,
   "id": "50ea595f",
   "metadata": {},
   "outputs": [
    {
     "data": {
      "text/html": [
       "<div>\n",
       "<style scoped>\n",
       "    .dataframe tbody tr th:only-of-type {\n",
       "        vertical-align: middle;\n",
       "    }\n",
       "\n",
       "    .dataframe tbody tr th {\n",
       "        vertical-align: top;\n",
       "    }\n",
       "\n",
       "    .dataframe thead th {\n",
       "        text-align: right;\n",
       "    }\n",
       "</style>\n",
       "<table border=\"1\" class=\"dataframe\">\n",
       "  <thead>\n",
       "    <tr style=\"text-align: right;\">\n",
       "      <th></th>\n",
       "      <th>x2</th>\n",
       "      <th>x3</th>\n",
       "      <th>x4</th>\n",
       "      <th>x5</th>\n",
       "      <th>target</th>\n",
       "    </tr>\n",
       "  </thead>\n",
       "  <tbody>\n",
       "    <tr>\n",
       "      <th>count</th>\n",
       "      <td>1000.000000</td>\n",
       "      <td>1000.000000</td>\n",
       "      <td>1000.000000</td>\n",
       "      <td>1000.000000</td>\n",
       "      <td>1000.000000</td>\n",
       "    </tr>\n",
       "    <tr>\n",
       "      <th>mean</th>\n",
       "      <td>7.475000</td>\n",
       "      <td>7.499000</td>\n",
       "      <td>520.742275</td>\n",
       "      <td>498.766465</td>\n",
       "      <td>108796.100000</td>\n",
       "    </tr>\n",
       "    <tr>\n",
       "      <th>std</th>\n",
       "      <td>1.499875</td>\n",
       "      <td>1.497412</td>\n",
       "      <td>287.152724</td>\n",
       "      <td>291.638738</td>\n",
       "      <td>34354.071039</td>\n",
       "    </tr>\n",
       "    <tr>\n",
       "      <th>min</th>\n",
       "      <td>5.000000</td>\n",
       "      <td>5.000000</td>\n",
       "      <td>1.626397</td>\n",
       "      <td>0.635090</td>\n",
       "      <td>30500.000000</td>\n",
       "    </tr>\n",
       "    <tr>\n",
       "      <th>25%</th>\n",
       "      <td>6.000000</td>\n",
       "      <td>6.000000</td>\n",
       "      <td>279.196095</td>\n",
       "      <td>244.377915</td>\n",
       "      <td>84600.000000</td>\n",
       "    </tr>\n",
       "    <tr>\n",
       "      <th>50%</th>\n",
       "      <td>7.000000</td>\n",
       "      <td>7.000000</td>\n",
       "      <td>536.006114</td>\n",
       "      <td>510.048008</td>\n",
       "      <td>106300.000000</td>\n",
       "    </tr>\n",
       "    <tr>\n",
       "      <th>75%</th>\n",
       "      <td>9.000000</td>\n",
       "      <td>9.000000</td>\n",
       "      <td>774.811907</td>\n",
       "      <td>749.538778</td>\n",
       "      <td>129450.000000</td>\n",
       "    </tr>\n",
       "    <tr>\n",
       "      <th>max</th>\n",
       "      <td>10.000000</td>\n",
       "      <td>10.000000</td>\n",
       "      <td>999.952338</td>\n",
       "      <td>999.316251</td>\n",
       "      <td>224800.000000</td>\n",
       "    </tr>\n",
       "  </tbody>\n",
       "</table>\n",
       "</div>"
      ],
      "text/plain": [
       "                x2           x3           x4           x5         target\n",
       "count  1000.000000  1000.000000  1000.000000  1000.000000    1000.000000\n",
       "mean      7.475000     7.499000   520.742275   498.766465  108796.100000\n",
       "std       1.499875     1.497412   287.152724   291.638738   34354.071039\n",
       "min       5.000000     5.000000     1.626397     0.635090   30500.000000\n",
       "25%       6.000000     6.000000   279.196095   244.377915   84600.000000\n",
       "50%       7.000000     7.000000   536.006114   510.048008  106300.000000\n",
       "75%       9.000000     9.000000   774.811907   749.538778  129450.000000\n",
       "max      10.000000    10.000000   999.952338   999.316251  224800.000000"
      ]
     },
     "execution_count": 6,
     "metadata": {},
     "output_type": "execute_result"
    }
   ],
   "source": [
    "df.describe()"
   ]
  },
  {
   "cell_type": "code",
   "execution_count": 7,
   "id": "adc78911",
   "metadata": {},
   "outputs": [
    {
     "data": {
      "text/html": [
       "<div>\n",
       "<style scoped>\n",
       "    .dataframe tbody tr th:only-of-type {\n",
       "        vertical-align: middle;\n",
       "    }\n",
       "\n",
       "    .dataframe tbody tr th {\n",
       "        vertical-align: top;\n",
       "    }\n",
       "\n",
       "    .dataframe thead th {\n",
       "        text-align: right;\n",
       "    }\n",
       "</style>\n",
       "<table border=\"1\" class=\"dataframe\">\n",
       "  <thead>\n",
       "    <tr style=\"text-align: right;\">\n",
       "      <th></th>\n",
       "      <th>x1</th>\n",
       "    </tr>\n",
       "  </thead>\n",
       "  <tbody>\n",
       "    <tr>\n",
       "      <th>count</th>\n",
       "      <td>1000</td>\n",
       "    </tr>\n",
       "    <tr>\n",
       "      <th>unique</th>\n",
       "      <td>4</td>\n",
       "    </tr>\n",
       "    <tr>\n",
       "      <th>top</th>\n",
       "      <td>лето</td>\n",
       "    </tr>\n",
       "    <tr>\n",
       "      <th>freq</th>\n",
       "      <td>254</td>\n",
       "    </tr>\n",
       "  </tbody>\n",
       "</table>\n",
       "</div>"
      ],
      "text/plain": [
       "          x1\n",
       "count   1000\n",
       "unique     4\n",
       "top     лето\n",
       "freq     254"
      ]
     },
     "execution_count": 7,
     "metadata": {},
     "output_type": "execute_result"
    }
   ],
   "source": [
    "df.describe(include=[\"object\"])"
   ]
  },
  {
   "cell_type": "code",
   "execution_count": 8,
   "id": "c7f73f04",
   "metadata": {},
   "outputs": [
    {
     "data": {
      "text/plain": [
       "array(['осень', 'лето', 'зима', 'весна'], dtype=object)"
      ]
     },
     "execution_count": 8,
     "metadata": {},
     "output_type": "execute_result"
    }
   ],
   "source": [
    "df[\"x1\"].unique()"
   ]
  },
  {
   "cell_type": "code",
   "execution_count": 9,
   "id": "07299394",
   "metadata": {},
   "outputs": [
    {
     "data": {
      "image/png": "[encoded data removed]",
      "text/plain": [
       "<Figure size 576x432 with 2 Axes>"
      ]
     },
     "metadata": {
      "needs_background": "light"
     },
     "output_type": "display_data"
    }
   ],
   "source": [
    "plt.figure(figsize=(8, 6))\n",
    "sns.heatmap(df.corr(method='pearson'), annot=True, fmt=\".1f\", cmap=\"magma\");"
   ]
  },
  {
   "cell_type": "code",
   "execution_count": 10,
   "id": "b729cf34",
   "metadata": {},
   "outputs": [
    {
     "data": {
      "text/html": [
       "<div>\n",
       "<style scoped>\n",
       "    .dataframe tbody tr th:only-of-type {\n",
       "        vertical-align: middle;\n",
       "    }\n",
       "\n",
       "    .dataframe tbody tr th {\n",
       "        vertical-align: top;\n",
       "    }\n",
       "\n",
       "    .dataframe thead th {\n",
       "        text-align: right;\n",
       "    }\n",
       "</style>\n",
       "<table border=\"1\" class=\"dataframe\">\n",
       "  <thead>\n",
       "    <tr style=\"text-align: right;\">\n",
       "      <th></th>\n",
       "      <th>x1</th>\n",
       "      <th>x2</th>\n",
       "      <th>x3</th>\n",
       "      <th>x4</th>\n",
       "      <th>target</th>\n",
       "    </tr>\n",
       "  </thead>\n",
       "  <tbody>\n",
       "    <tr>\n",
       "      <th>0</th>\n",
       "      <td>весна</td>\n",
       "      <td>7.553360</td>\n",
       "      <td>7.474308</td>\n",
       "      <td>523.738583</td>\n",
       "      <td>109937.154150</td>\n",
       "    </tr>\n",
       "    <tr>\n",
       "      <th>1</th>\n",
       "      <td>зима</td>\n",
       "      <td>7.448413</td>\n",
       "      <td>7.515873</td>\n",
       "      <td>526.159448</td>\n",
       "      <td>92966.269841</td>\n",
       "    </tr>\n",
       "    <tr>\n",
       "      <th>2</th>\n",
       "      <td>лето</td>\n",
       "      <td>7.464567</td>\n",
       "      <td>7.460630</td>\n",
       "      <td>527.331238</td>\n",
       "      <td>127424.015748</td>\n",
       "    </tr>\n",
       "    <tr>\n",
       "      <th>3</th>\n",
       "      <td>осень</td>\n",
       "      <td>7.431535</td>\n",
       "      <td>7.547718</td>\n",
       "      <td>504.987957</td>\n",
       "      <td>104517.842324</td>\n",
       "    </tr>\n",
       "  </tbody>\n",
       "</table>\n",
       "</div>"
      ],
      "text/plain": [
       "      x1        x2        x3          x4         target\n",
       "0  весна  7.553360  7.474308  523.738583  109937.154150\n",
       "1   зима  7.448413  7.515873  526.159448   92966.269841\n",
       "2   лето  7.464567  7.460630  527.331238  127424.015748\n",
       "3  осень  7.431535  7.547718  504.987957  104517.842324"
      ]
     },
     "execution_count": 10,
     "metadata": {},
     "output_type": "execute_result"
    }
   ],
   "source": [
    "df[[\"x1\", \"x2\", \"x3\", \"x4\", \"target\"]].groupby(by=[\"x1\"]).mean().reset_index()"
   ]
  },
  {
   "cell_type": "code",
   "execution_count": 11,
   "id": "572b7e78",
   "metadata": {},
   "outputs": [
    {
     "data": {
      "image/png": "[encoded data removed]",
      "text/plain": [
       "<Figure size 432x288 with 1 Axes>"
      ]
     },
     "metadata": {
      "needs_background": "light"
     },
     "output_type": "display_data"
    }
   ],
   "source": [
    "plt.plot(df.x2, df.target, \"o\")\n",
    "dfgr = df[[\"x2\", \"target\"]].groupby(by=\"x2\").mean().reset_index()\n",
    "plt.plot(dfgr.x2, dfgr.target, \"r-\")\n",
    "plt.title(\"x2 & target\");"
   ]
  },
  {
   "cell_type": "code",
   "execution_count": 12,
   "id": "6a44ea44",
   "metadata": {},
   "outputs": [
    {
     "data": {
      "image/png": "[encoded data removed]",
      "text/plain": [
       "<Figure size 432x288 with 1 Axes>"
      ]
     },
     "metadata": {
      "needs_background": "light"
     },
     "output_type": "display_data"
    }
   ],
   "source": [
    "plt.plot(df.x3, df.target, \"o\")\n",
    "dfgr = df[[\"x3\", \"target\"]].groupby(by=\"x3\").mean().reset_index()\n",
    "plt.plot(dfgr.x3, dfgr.target, \"r-\")\n",
    "plt.title(\"x3 & target\");"
   ]
  },
  {
   "cell_type": "code",
   "execution_count": 13,
   "id": "60955bac",
   "metadata": {},
   "outputs": [],
   "source": [
    "kb = KBinsDiscretizer(n_bins=20, encode=\"ordinal\")\n",
    "df[\"dx4\"] = kb.fit_transform(df[[\"x4\"]])\n",
    "del kb"
   ]
  },
  {
   "cell_type": "code",
   "execution_count": 14,
   "id": "f354c45b",
   "metadata": {},
   "outputs": [
    {
     "data": {
      "image/png": "[encoded data removed]",
      "text/plain": [
       "<Figure size 432x288 with 1 Axes>"
      ]
     },
     "metadata": {
      "needs_background": "light"
     },
     "output_type": "display_data"
    }
   ],
   "source": [
    "dfgr = df[[\"dx4\", \"target\"]].groupby(by=\"dx4\").mean().reset_index()\n",
    "plt.plot(dfgr.dx4, dfgr.target)\n",
    "plt.title(\"dx4 & target\")\n",
    "df.drop(\"dx4\", axis=1, inplace=True)"
   ]
  },
  {
   "cell_type": "code",
   "execution_count": 15,
   "id": "4a76f5a7",
   "metadata": {},
   "outputs": [
    {
     "data": {
      "image/png": "[encoded data removed]",
      "text/plain": [
       "<Figure size 576x432 with 1 Axes>"
      ]
     },
     "metadata": {
      "needs_background": "light"
     },
     "output_type": "display_data"
    }
   ],
   "source": [
    "plt.figure(figsize=(8, 6))\n",
    "sns.barplot(data=df, x=\"x1\", y=\"target\")\n",
    "plt.ylabel(\"Mean value of target\")\n",
    "plt.title(\"x1 & target\")\n",
    "plt.show()"
   ]
  },
  {
   "cell_type": "markdown",
   "id": "f3297936-dc70-4c6c-b25d-cf076f6e159e",
   "metadata": {},
   "source": [
    "# Modelling"
   ]
  },
  {
   "cell_type": "markdown",
   "id": "9f7a4527-2934-4805-ba96-f0a5434f4ec1",
   "metadata": {},
   "source": [
    "## Linear regression"
   ]
  },
  {
   "cell_type": "code",
   "execution_count": 16,
   "id": "93dab42f-6c0c-41ce-b121-51b816b41782",
   "metadata": {},
   "outputs": [],
   "source": [
    "df = pd.concat([df, pd.get_dummies(df[\"x1\"])], axis=1).drop([\"x1\"], axis=1)"
   ]
  },
  {
   "cell_type": "code",
   "execution_count": 17,
   "id": "4c9d6f47",
   "metadata": {},
   "outputs": [],
   "source": [
    "X = df.drop(\"target\", axis=1)\n",
    "y = df[\"target\"]\n",
    "X_train, X_test, y_train, y_test = train_test_split(X, y, test_size=TEST_SIZE, random_state=RANDOM_STATE)"
   ]
  },
  {
   "cell_type": "code",
   "execution_count": 18,
   "id": "e988e6b0-2b50-4180-af56-a0b230795b98",
   "metadata": {},
   "outputs": [
    {
     "data": {
      "text/plain": [
       "LinearRegression()"
      ]
     },
     "execution_count": 18,
     "metadata": {},
     "output_type": "execute_result"
    }
   ],
   "source": [
    "lr = LinearRegression()\n",
    "lr.fit(X_train, y_train)"
   ]
  },
  {
   "cell_type": "code",
   "execution_count": 19,
   "id": "417d5b7b-5336-4eac-b667-1f4a1ae00b15",
   "metadata": {},
   "outputs": [],
   "source": [
    "y_pred = lr.predict(X_test)"
   ]
  },
  {
   "cell_type": "code",
   "execution_count": 20,
   "id": "291442a0-d683-4cb2-915b-7987c84563c0",
   "metadata": {},
   "outputs": [],
   "source": [
    "r2_lr = r2_score(y_test, y_pred)"
   ]
  },
  {
   "cell_type": "code",
   "execution_count": 21,
   "id": "70238244-f402-4d79-9c05-738745d617e6",
   "metadata": {},
   "outputs": [
    {
     "name": "stdout",
     "output_type": "stream",
     "text": [
      "R2 score: 0.88\n"
     ]
    }
   ],
   "source": [
    "print(f\"R2 score: {round(r2_lr, 2)}\")"
   ]
  },
  {
   "cell_type": "markdown",
   "id": "4921ec24-8ab8-4dd4-9794-c52bc9f848f8",
   "metadata": {},
   "source": [
    "## Polynomial regression"
   ]
  },
  {
   "cell_type": "code",
   "execution_count": 22,
   "id": "cd5e79c7-d9ef-4d9e-aaff-73d6983fb546",
   "metadata": {},
   "outputs": [
    {
     "name": "stdout",
     "output_type": "stream",
     "text": [
      "Mean R2 score on cross-validation:  0.85\n",
      "R2 score on test data:  0.89\n"
     ]
    }
   ],
   "source": [
    "X.drop(\"x5\",axis=1,inplace=True)\n",
    "X_train, X_test, y_train, y_test = train_test_split(X, y, test_size=0.3, random_state=RANDOM_STATE)\n",
    "kf = KFold(n_splits=17)\n",
    "poly = PolynomialFeatures(degree=3)\n",
    "pr = LinearRegression()\n",
    "\n",
    "r2_scores = []\n",
    "\n",
    "for train_index, val_index in kf.split(X_train):\n",
    "    X_train_kf, X_val_kf = X_train.iloc[train_index], X_train.iloc[val_index]\n",
    "    y_train_kf, y_val_kf = y_train.iloc[train_index], y_train.iloc[val_index]\n",
    "\n",
    "    X_train_poly = poly.fit_transform(X_train_kf)\n",
    "    X_val_poly = poly.transform(X_val_kf)\n",
    "\n",
    "    pr.fit(X_train_poly, y_train_kf)\n",
    "\n",
    "    y_pred_kf = pr.predict(X_val_poly)\n",
    "    r2_scores.append(r2_score(y_val_kf, y_pred_kf))\n",
    "\n",
    "X_test_poly = poly.transform(X_test)\n",
    "y_pred_test = pr.predict(X_test_poly)\n",
    "r2_test = r2_score(y_test, y_pred_test)\n",
    "\n",
    "print(\"Mean R2 score on cross-validation: \", round(np.mean(r2_scores), 2))\n",
    "print(\"R2 score on test data: \", round(r2_test, 2))"
   ]
  },
  {
   "cell_type": "markdown",
   "id": "251ae40c-8170-4fbc-9330-378d130ccda9",
   "metadata": {},
   "source": [
    "## Linear regression (Discretized)"
   ]
  },
  {
   "cell_type": "code",
   "execution_count": 23,
   "id": "0332bc7f-0b2e-4ca6-97fd-a95bf706db58",
   "metadata": {},
   "outputs": [
    {
     "name": "stdout",
     "output_type": "stream",
     "text": [
      "R2 score: 0.9308196031398513\n"
     ]
    }
   ],
   "source": [
    "kb = KBinsDiscretizer(n_bins=25, encode=\"onehot-dense\")\n",
    "x4 = kb.fit_transform(df[[\"x4\"]])\n",
    "df1 = pd.concat([df, pd.DataFrame(x4)], axis=1)\n",
    "\n",
    "X = df1.drop([\"x4\", \"x5\", \"target\"], axis=1)\n",
    "y = df1[\"target\"]\n",
    "\n",
    "X_train, X_test, y_train, y_test = train_test_split(X, y, test_size=0.3, random_state=RANDOM_STATE)\n",
    "\n",
    "dlr = LinearRegression()\n",
    "dlr.fit(X_train, y_train)\n",
    "y_pred1 = dlr.predict(X_test)\n",
    "r2_dlr = r2_score(y_test, y_pred1)\n",
    "print(f\"R2 score: {r2_dlr}\")"
   ]
  }
 ],
 "metadata": {
  "kernelspec": {
   "display_name": "Python 3 (ipykernel)",
   "language": "python",
   "name": "python3"
  },
  "language_info": {
   "codemirror_mode": {
    "name": "ipython",
    "version": 3
   },
   "file_extension": ".py",
   "mimetype": "text/x-python",
   "name": "python",
   "nbconvert_exporter": "python",
   "pygments_lexer": "ipython3",
   "version": "3.11.5"
  }
 },
 "nbformat": 4,
 "nbformat_minor": 5
}
