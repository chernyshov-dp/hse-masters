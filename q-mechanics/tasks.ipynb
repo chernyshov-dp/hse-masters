{
 "cells": [
  {
   "cell_type": "code",
   "execution_count": 1,
   "id": "3bf75c67-3f41-42f4-a399-cb9e9f38adc2",
   "metadata": {},
   "outputs": [
    {
     "name": "stdout",
     "output_type": "stream",
     "text": [
      "Probability of detecting the particle in the region -a < x < a: 0.8427007929497148\n"
     ]
    }
   ],
   "source": [
    "# task 3\n",
    "import numpy as np\n",
    "from scipy.integrate import quad\n",
    "\n",
    "\n",
    "m = 1.0  # particle mass\n",
    "omega = 1.0  # angular frequency of the oscillator\n",
    "h_bar = 1.0  # reduced Planck constant\n",
    "a = 1.0  # oscillator amplitude\n",
    "\n",
    "# Ground state wave function\n",
    "def psi_0(x):\n",
    "    return (m * omega / (np.pi * h_bar))**0.25 * np.exp(-m * omega * x**2 / (2 * h_bar))\n",
    "\n",
    "\n",
    "# Probability density\n",
    "def probability_density(x):\n",
    "    return np.abs(psi_0(x))**2\n",
    "\n",
    "\n",
    "result, _ = quad(probability_density, -a, a)\n",
    "print(\"Probability of detecting the particle in the region -a < x < a:\", result)\n"
   ]
  }
 ],
 "metadata": {
  "kernelspec": {
   "display_name": "Python 3 (ipykernel)",
   "language": "python",
   "name": "python3"
  },
  "language_info": {
   "codemirror_mode": {
    "name": "ipython",
    "version": 3
   },
   "file_extension": ".py",
   "mimetype": "text/x-python",
   "name": "python",
   "nbconvert_exporter": "python",
   "pygments_lexer": "ipython3",
   "version": "3.11.5"
  }
 },
 "nbformat": 4,
 "nbformat_minor": 5
}
